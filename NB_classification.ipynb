{
 "cells": [
  {
   "cell_type": "markdown",
   "metadata": {},
   "source": [
    "@author: Pooja\n",
    "www.poojaangurala.com\n",
    "Well in \"Tweets n Tags\", we have created dataframe of tweets with labels. Let's try building classification model on it."
   ]
  },
  {
   "cell_type": "code",
   "execution_count": null,
   "metadata": {
    "collapsed": true
   },
   "outputs": [],
   "source": [
    "d=data1['tweets_only']\n",
    "c=data1['cat']\n",
    "doc=list[zip(d,c)]"
   ]
  },
  {
   "cell_type": "code",
   "execution_count": null,
   "metadata": {
    "collapsed": true
   },
   "outputs": [],
   "source": [
    "#-------extracting token in lower case--------------------------\n",
    "sent_token=[]\n",
    "for tweet in d:\n",
    "    sent_token.append(word_tokenize(tweet))\n",
    "#-------------------------------------------------------------\n",
    "allsent_words = []\n",
    "for s in sent_token:\n",
    "    for w in s:\n",
    "        allsent_words.append(w.lower())"
   ]
  },
  {
   "cell_type": "code",
   "execution_count": null,
   "metadata": {
    "collapsed": true
   },
   "outputs": [],
   "source": [
    "#--------creating featureset--------------------------\n",
    "all_words = nltk.FreqDist(allsent_words)\n",
    "#--------------------------------------------\n",
    "word_features = list(all_words.keys())\n",
    "#-------------------------------------------     \n",
    "def find_features(document):\n",
    "    words = set(document)\n",
    "    features = {}\n",
    "    for w in word_features:\n",
    "        features[w] = (w in words)\n",
    "    return features\n",
    "#-----------------------------------------------\n",
    "featuresets = [(find_features(rev), category) for (rev, category) in doc]"
   ]
  },
  {
   "cell_type": "markdown",
   "metadata": {},
   "source": [
    "Classification using NB "
   ]
  },
  {
   "cell_type": "code",
   "execution_count": null,
   "metadata": {
    "collapsed": true
   },
   "outputs": [],
   "source": [
    "#create training set and testing set out of featuresets\n",
    "train_set = featuresets[:174]\n",
    "test_set = featuresets[174:]\n",
    "#train the classifier\n",
    "classifier = nltk.NaiveBayesClassifier.train(train_set)\n",
    "print(\"Classifier accuracy percent:\",(nltk.classify.accuracy(classifier, test_set))*100)\n",
    "classifier.show_most_informative_features()"
   ]
  },
  {
   "cell_type": "code",
   "execution_count": null,
   "metadata": {
    "collapsed": true
   },
   "outputs": [],
   "source": [
    "Classification using BernoulliNB "
   ]
  },
  {
   "cell_type": "code",
   "execution_count": null,
   "metadata": {
    "collapsed": true
   },
   "outputs": [],
   "source": [
    "#----------------------------------------------------------\n",
    "test1 = [find_features(rev) for rev in doc]\n",
    "test1=test1[174:]\n",
    "classif = SklearnClassifier(BernoulliNB()).train(train_set)\n",
    "cc=classif.classify_many(test1)  \n",
    "#finding aaccuracy of bernoullinb\n",
    "ccl=list(cc) \n",
    "actual=data1['cat'][174:]\n",
    "actuall=list(actual)\n",
    "count=0\n",
    "for i in range(len(actuall)):\n",
    "    if actuall[i] == ccl[i]:\n",
    "        count=count+1\n",
    "acc=count/174*100\n",
    "print(\"Accuracy of BernoulliNB is : \", acc)"
   ]
  }
 ],
 "metadata": {
  "kernelspec": {
   "display_name": "Python 3",
   "language": "python",
   "name": "python3"
  },
  "language_info": {
   "codemirror_mode": {
    "name": "ipython",
    "version": 3
   },
   "file_extension": ".py",
   "mimetype": "text/x-python",
   "name": "python",
   "nbconvert_exporter": "python",
   "pygments_lexer": "ipython3",
   "version": "3.6.3"
  }
 },
 "nbformat": 4,
 "nbformat_minor": 2
}

